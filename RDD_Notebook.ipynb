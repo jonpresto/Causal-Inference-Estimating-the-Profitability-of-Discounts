{
 "cells": [
  {
   "cell_type": "markdown",
   "id": "943278b9",
   "metadata": {},
   "source": [
    "# Regression Discontinuity Design\n",
    "### An Applied Causal Inference Technique\n",
    "\n",
    "#### Backround\n",
    "An e-commerce company would like to understand the impact of its discounting strategy.  We didn't have data where discounts were randomly assigned, which made the impact challenging, however, we did have knowledge of the treatment assignment mechanism.  The company was giving more discounts to customers once they reached a 20-month tenure.  This mechanism led to a discontinuity in discounts that we could expore further.\n",
    "\n",
    "#### Approaching the Problem\n",
    "We leverage a popular natural experiment technique known as regression discontinuity design (RDD).  With RDD, we were able to compare customers just above and just below the 20-month tenure cutoff.  These customers differ in their discount level, but they should be similar to everything else.  So any change we see in profits from customers once the cutoff is reached can be attributed to the sudden increase in discounts.  Using regression, we were then able to estimate the size of that impact.\n"
   ]
  },
  {
   "cell_type": "code",
   "execution_count": 1,
   "id": "e136d67c",
   "metadata": {},
   "outputs": [],
   "source": [
    "import pandas as pd\n",
    "import numpy as np\n",
    "import os\n",
    "\n",
    "import warnings\n",
    "warnings.filterwarnings('ignore')\n",
    "\n",
    "import pandas as pd\n",
    "import numpy as np\n",
    "from matplotlib import style\n",
    "from matplotlib import pyplot as plt\n",
    "import seaborn as sns\n",
    "import statsmodels.formula.api as smf\n",
    "\n",
    "import scipy\n",
    "from scipy import stats\n",
    "\n",
    "%matplotlib inline\n",
    "\n",
    "style.use(\"fivethirtyeight\")"
   ]
  },
  {
   "cell_type": "code",
   "execution_count": 2,
   "id": "10308116",
   "metadata": {},
   "outputs": [],
   "source": [
    "filepath = 'https://raw.githubusercontent.com/jonpresto/Causal-Inference-Estimating-the-Profitability-of-Discounts/main/Dataset/rdd_data.csv'"
   ]
  },
  {
   "cell_type": "code",
   "execution_count": 3,
   "id": "93b3ba65",
   "metadata": {},
   "outputs": [],
   "source": [
    "df = pd.read_csv(filepath)"
   ]
  },
  {
   "cell_type": "code",
   "execution_count": 4,
   "id": "b66b5012",
   "metadata": {},
   "outputs": [
    {
     "name": "stdout",
     "output_type": "stream",
     "text": [
      "(10000, 43)\n"
     ]
    },
    {
     "data": {
      "text/html": [
       "<div>\n",
       "<style scoped>\n",
       "    .dataframe tbody tr th:only-of-type {\n",
       "        vertical-align: middle;\n",
       "    }\n",
       "\n",
       "    .dataframe tbody tr th {\n",
       "        vertical-align: top;\n",
       "    }\n",
       "\n",
       "    .dataframe thead th {\n",
       "        text-align: right;\n",
       "    }\n",
       "</style>\n",
       "<table border=\"1\" class=\"dataframe\">\n",
       "  <thead>\n",
       "    <tr style=\"text-align: right;\">\n",
       "      <th></th>\n",
       "      <th>spend_1m_baby</th>\n",
       "      <th>spend_2m_baby</th>\n",
       "      <th>spend_3m_baby</th>\n",
       "      <th>spend_4m_baby</th>\n",
       "      <th>spend_5m_baby</th>\n",
       "      <th>spend_6m_baby</th>\n",
       "      <th>spend_1m_clothes</th>\n",
       "      <th>spend_2m_clothes</th>\n",
       "      <th>spend_3m_clothes</th>\n",
       "      <th>spend_4m_clothes</th>\n",
       "      <th>...</th>\n",
       "      <th>spend_4m_eletronic</th>\n",
       "      <th>spend_5m_eletronic</th>\n",
       "      <th>spend_6m_eletronic</th>\n",
       "      <th>sales</th>\n",
       "      <th>discount</th>\n",
       "      <th>profit</th>\n",
       "      <th>age</th>\n",
       "      <th>gender</th>\n",
       "      <th>cust_state</th>\n",
       "      <th>tenure</th>\n",
       "    </tr>\n",
       "  </thead>\n",
       "  <tbody>\n",
       "    <tr>\n",
       "      <th>0</th>\n",
       "      <td>5</td>\n",
       "      <td>0</td>\n",
       "      <td>0</td>\n",
       "      <td>0</td>\n",
       "      <td>10</td>\n",
       "      <td>0.0</td>\n",
       "      <td>0</td>\n",
       "      <td>0.0</td>\n",
       "      <td>0.0</td>\n",
       "      <td>0.0</td>\n",
       "      <td>...</td>\n",
       "      <td>0.0</td>\n",
       "      <td>0.0</td>\n",
       "      <td>0.0</td>\n",
       "      <td>1442.30</td>\n",
       "      <td>$ 4.0</td>\n",
       "      <td>66.93</td>\n",
       "      <td>30</td>\n",
       "      <td>0.0</td>\n",
       "      <td>MA</td>\n",
       "      <td>19</td>\n",
       "    </tr>\n",
       "    <tr>\n",
       "      <th>1</th>\n",
       "      <td>0</td>\n",
       "      <td>0</td>\n",
       "      <td>0</td>\n",
       "      <td>0</td>\n",
       "      <td>0</td>\n",
       "      <td>0.0</td>\n",
       "      <td>0</td>\n",
       "      <td>0.0</td>\n",
       "      <td>0.0</td>\n",
       "      <td>0.0</td>\n",
       "      <td>...</td>\n",
       "      <td>0.0</td>\n",
       "      <td>0.0</td>\n",
       "      <td>0.0</td>\n",
       "      <td>883.96</td>\n",
       "      <td>$ 2.0</td>\n",
       "      <td>41.33</td>\n",
       "      <td>30</td>\n",
       "      <td>1.0</td>\n",
       "      <td>MG</td>\n",
       "      <td>20</td>\n",
       "    </tr>\n",
       "    <tr>\n",
       "      <th>2</th>\n",
       "      <td>0</td>\n",
       "      <td>0</td>\n",
       "      <td>0</td>\n",
       "      <td>0</td>\n",
       "      <td>0</td>\n",
       "      <td>0.0</td>\n",
       "      <td>0</td>\n",
       "      <td>0.0</td>\n",
       "      <td>0.0</td>\n",
       "      <td>0.0</td>\n",
       "      <td>...</td>\n",
       "      <td>0.0</td>\n",
       "      <td>0.0</td>\n",
       "      <td>0.0</td>\n",
       "      <td>4900.67</td>\n",
       "      <td>$ 224.0</td>\n",
       "      <td>15.88</td>\n",
       "      <td>29</td>\n",
       "      <td>0.0</td>\n",
       "      <td>RJ</td>\n",
       "      <td>21</td>\n",
       "    </tr>\n",
       "    <tr>\n",
       "      <th>3</th>\n",
       "      <td>0</td>\n",
       "      <td>0</td>\n",
       "      <td>0</td>\n",
       "      <td>0</td>\n",
       "      <td>0</td>\n",
       "      <td>0.0</td>\n",
       "      <td>25</td>\n",
       "      <td>25.0</td>\n",
       "      <td>0.0</td>\n",
       "      <td>25.0</td>\n",
       "      <td>...</td>\n",
       "      <td>0.0</td>\n",
       "      <td>0.0</td>\n",
       "      <td>0.0</td>\n",
       "      <td>1547.48</td>\n",
       "      <td>$ 1.0</td>\n",
       "      <td>74.99</td>\n",
       "      <td>36</td>\n",
       "      <td>1.0</td>\n",
       "      <td>BA</td>\n",
       "      <td>18</td>\n",
       "    </tr>\n",
       "    <tr>\n",
       "      <th>4</th>\n",
       "      <td>0</td>\n",
       "      <td>0</td>\n",
       "      <td>0</td>\n",
       "      <td>0</td>\n",
       "      <td>0</td>\n",
       "      <td>0.0</td>\n",
       "      <td>0</td>\n",
       "      <td>0.0</td>\n",
       "      <td>0.0</td>\n",
       "      <td>0.0</td>\n",
       "      <td>...</td>\n",
       "      <td>0.0</td>\n",
       "      <td>0.0</td>\n",
       "      <td>0.0</td>\n",
       "      <td>1335.23</td>\n",
       "      <td>$ 13.0</td>\n",
       "      <td>52.41</td>\n",
       "      <td>37</td>\n",
       "      <td>0.0</td>\n",
       "      <td>PB</td>\n",
       "      <td>19</td>\n",
       "    </tr>\n",
       "  </tbody>\n",
       "</table>\n",
       "<p>5 rows × 43 columns</p>\n",
       "</div>"
      ],
      "text/plain": [
       "   spend_1m_baby  spend_2m_baby  spend_3m_baby  spend_4m_baby  spend_5m_baby  \\\n",
       "0              5              0              0              0             10   \n",
       "1              0              0              0              0              0   \n",
       "2              0              0              0              0              0   \n",
       "3              0              0              0              0              0   \n",
       "4              0              0              0              0              0   \n",
       "\n",
       "   spend_6m_baby  spend_1m_clothes  spend_2m_clothes  spend_3m_clothes  \\\n",
       "0            0.0                 0               0.0               0.0   \n",
       "1            0.0                 0               0.0               0.0   \n",
       "2            0.0                 0               0.0               0.0   \n",
       "3            0.0                25              25.0               0.0   \n",
       "4            0.0                 0               0.0               0.0   \n",
       "\n",
       "   spend_4m_clothes  ...  spend_4m_eletronic  spend_5m_eletronic  \\\n",
       "0               0.0  ...                 0.0                 0.0   \n",
       "1               0.0  ...                 0.0                 0.0   \n",
       "2               0.0  ...                 0.0                 0.0   \n",
       "3              25.0  ...                 0.0                 0.0   \n",
       "4               0.0  ...                 0.0                 0.0   \n",
       "\n",
       "   spend_6m_eletronic    sales  discount  profit  age  gender  cust_state  \\\n",
       "0                 0.0  1442.30     $ 4.0   66.93   30     0.0          MA   \n",
       "1                 0.0   883.96     $ 2.0   41.33   30     1.0          MG   \n",
       "2                 0.0  4900.67   $ 224.0   15.88   29     0.0          RJ   \n",
       "3                 0.0  1547.48     $ 1.0   74.99   36     1.0          BA   \n",
       "4                 0.0  1335.23    $ 13.0   52.41   37     0.0          PB   \n",
       "\n",
       "   tenure  \n",
       "0      19  \n",
       "1      20  \n",
       "2      21  \n",
       "3      18  \n",
       "4      19  \n",
       "\n",
       "[5 rows x 43 columns]"
      ]
     },
     "execution_count": 4,
     "metadata": {},
     "output_type": "execute_result"
    }
   ],
   "source": [
    "# check if file was read correctly\n",
    "print(df.shape)\n",
    "df.head()"
   ]
  },
  {
   "cell_type": "code",
   "execution_count": 5,
   "id": "a1adef56",
   "metadata": {},
   "outputs": [],
   "source": [
    "# check column types\n",
    "# df.dtypes"
   ]
  },
  {
   "cell_type": "code",
   "execution_count": 6,
   "id": "cc57b291",
   "metadata": {},
   "outputs": [
    {
     "data": {
      "text/html": [
       "<div>\n",
       "<style scoped>\n",
       "    .dataframe tbody tr th:only-of-type {\n",
       "        vertical-align: middle;\n",
       "    }\n",
       "\n",
       "    .dataframe tbody tr th {\n",
       "        vertical-align: top;\n",
       "    }\n",
       "\n",
       "    .dataframe thead th {\n",
       "        text-align: right;\n",
       "    }\n",
       "</style>\n",
       "<table border=\"1\" class=\"dataframe\">\n",
       "  <thead>\n",
       "    <tr style=\"text-align: right;\">\n",
       "      <th></th>\n",
       "      <th>spend_1m_baby</th>\n",
       "      <th>spend_2m_baby</th>\n",
       "      <th>spend_3m_baby</th>\n",
       "      <th>spend_4m_baby</th>\n",
       "      <th>spend_5m_baby</th>\n",
       "      <th>spend_6m_baby</th>\n",
       "      <th>spend_1m_clothes</th>\n",
       "      <th>spend_2m_clothes</th>\n",
       "      <th>spend_3m_clothes</th>\n",
       "      <th>spend_4m_clothes</th>\n",
       "      <th>...</th>\n",
       "      <th>spend_4m_eletronic</th>\n",
       "      <th>spend_5m_eletronic</th>\n",
       "      <th>spend_6m_eletronic</th>\n",
       "      <th>sales</th>\n",
       "      <th>discount</th>\n",
       "      <th>profit</th>\n",
       "      <th>age</th>\n",
       "      <th>gender</th>\n",
       "      <th>cust_state</th>\n",
       "      <th>tenure</th>\n",
       "    </tr>\n",
       "  </thead>\n",
       "  <tbody>\n",
       "    <tr>\n",
       "      <th>count</th>\n",
       "      <td>10000.000000</td>\n",
       "      <td>10000.000000</td>\n",
       "      <td>10000.000000</td>\n",
       "      <td>10000.000000</td>\n",
       "      <td>10000.000000</td>\n",
       "      <td>10000.000000</td>\n",
       "      <td>10000.00000</td>\n",
       "      <td>10000.000000</td>\n",
       "      <td>10000.000000</td>\n",
       "      <td>10000.000000</td>\n",
       "      <td>...</td>\n",
       "      <td>10000.000000</td>\n",
       "      <td>10000.000000</td>\n",
       "      <td>10000.000000</td>\n",
       "      <td>10000.000000</td>\n",
       "      <td>10000</td>\n",
       "      <td>10000.000000</td>\n",
       "      <td>10000.000000</td>\n",
       "      <td>9000.000000</td>\n",
       "      <td>10000</td>\n",
       "      <td>10000.000000</td>\n",
       "    </tr>\n",
       "    <tr>\n",
       "      <th>unique</th>\n",
       "      <td>NaN</td>\n",
       "      <td>NaN</td>\n",
       "      <td>NaN</td>\n",
       "      <td>NaN</td>\n",
       "      <td>NaN</td>\n",
       "      <td>NaN</td>\n",
       "      <td>NaN</td>\n",
       "      <td>NaN</td>\n",
       "      <td>NaN</td>\n",
       "      <td>NaN</td>\n",
       "      <td>...</td>\n",
       "      <td>NaN</td>\n",
       "      <td>NaN</td>\n",
       "      <td>NaN</td>\n",
       "      <td>NaN</td>\n",
       "      <td>817</td>\n",
       "      <td>NaN</td>\n",
       "      <td>NaN</td>\n",
       "      <td>NaN</td>\n",
       "      <td>27</td>\n",
       "      <td>NaN</td>\n",
       "    </tr>\n",
       "    <tr>\n",
       "      <th>top</th>\n",
       "      <td>NaN</td>\n",
       "      <td>NaN</td>\n",
       "      <td>NaN</td>\n",
       "      <td>NaN</td>\n",
       "      <td>NaN</td>\n",
       "      <td>NaN</td>\n",
       "      <td>NaN</td>\n",
       "      <td>NaN</td>\n",
       "      <td>NaN</td>\n",
       "      <td>NaN</td>\n",
       "      <td>...</td>\n",
       "      <td>NaN</td>\n",
       "      <td>NaN</td>\n",
       "      <td>NaN</td>\n",
       "      <td>NaN</td>\n",
       "      <td>$ 1.0</td>\n",
       "      <td>NaN</td>\n",
       "      <td>NaN</td>\n",
       "      <td>NaN</td>\n",
       "      <td>SP</td>\n",
       "      <td>NaN</td>\n",
       "    </tr>\n",
       "    <tr>\n",
       "      <th>freq</th>\n",
       "      <td>NaN</td>\n",
       "      <td>NaN</td>\n",
       "      <td>NaN</td>\n",
       "      <td>NaN</td>\n",
       "      <td>NaN</td>\n",
       "      <td>NaN</td>\n",
       "      <td>NaN</td>\n",
       "      <td>NaN</td>\n",
       "      <td>NaN</td>\n",
       "      <td>NaN</td>\n",
       "      <td>...</td>\n",
       "      <td>NaN</td>\n",
       "      <td>NaN</td>\n",
       "      <td>NaN</td>\n",
       "      <td>NaN</td>\n",
       "      <td>277</td>\n",
       "      <td>NaN</td>\n",
       "      <td>NaN</td>\n",
       "      <td>NaN</td>\n",
       "      <td>2160</td>\n",
       "      <td>NaN</td>\n",
       "    </tr>\n",
       "    <tr>\n",
       "      <th>mean</th>\n",
       "      <td>0.762500</td>\n",
       "      <td>0.500000</td>\n",
       "      <td>0.487000</td>\n",
       "      <td>0.473000</td>\n",
       "      <td>0.432500</td>\n",
       "      <td>64.583614</td>\n",
       "      <td>3.92000</td>\n",
       "      <td>23.086333</td>\n",
       "      <td>22.113359</td>\n",
       "      <td>24.667843</td>\n",
       "      <td>...</td>\n",
       "      <td>3.695413</td>\n",
       "      <td>6.973173</td>\n",
       "      <td>7.055009</td>\n",
       "      <td>3920.136075</td>\n",
       "      <td>NaN</td>\n",
       "      <td>47.645930</td>\n",
       "      <td>31.516500</td>\n",
       "      <td>0.505667</td>\n",
       "      <td>NaN</td>\n",
       "      <td>20.985900</td>\n",
       "    </tr>\n",
       "    <tr>\n",
       "      <th>std</th>\n",
       "      <td>2.107496</td>\n",
       "      <td>2.766002</td>\n",
       "      <td>2.672741</td>\n",
       "      <td>2.502378</td>\n",
       "      <td>2.201347</td>\n",
       "      <td>518.637042</td>\n",
       "      <td>10.74803</td>\n",
       "      <td>159.879037</td>\n",
       "      <td>155.525896</td>\n",
       "      <td>162.129561</td>\n",
       "      <td>...</td>\n",
       "      <td>80.473089</td>\n",
       "      <td>160.435451</td>\n",
       "      <td>151.792637</td>\n",
       "      <td>3872.673356</td>\n",
       "      <td>NaN</td>\n",
       "      <td>47.966765</td>\n",
       "      <td>6.438204</td>\n",
       "      <td>0.499996</td>\n",
       "      <td>NaN</td>\n",
       "      <td>2.445261</td>\n",
       "    </tr>\n",
       "    <tr>\n",
       "      <th>min</th>\n",
       "      <td>0.000000</td>\n",
       "      <td>0.000000</td>\n",
       "      <td>0.000000</td>\n",
       "      <td>0.000000</td>\n",
       "      <td>0.000000</td>\n",
       "      <td>0.000000</td>\n",
       "      <td>0.00000</td>\n",
       "      <td>0.000000</td>\n",
       "      <td>0.000000</td>\n",
       "      <td>0.000000</td>\n",
       "      <td>...</td>\n",
       "      <td>0.000000</td>\n",
       "      <td>0.000000</td>\n",
       "      <td>0.000000</td>\n",
       "      <td>605.660000</td>\n",
       "      <td>NaN</td>\n",
       "      <td>-395.040000</td>\n",
       "      <td>15.000000</td>\n",
       "      <td>0.000000</td>\n",
       "      <td>NaN</td>\n",
       "      <td>15.000000</td>\n",
       "    </tr>\n",
       "    <tr>\n",
       "      <th>25%</th>\n",
       "      <td>0.000000</td>\n",
       "      <td>0.000000</td>\n",
       "      <td>0.000000</td>\n",
       "      <td>0.000000</td>\n",
       "      <td>0.000000</td>\n",
       "      <td>0.000000</td>\n",
       "      <td>0.00000</td>\n",
       "      <td>0.000000</td>\n",
       "      <td>0.000000</td>\n",
       "      <td>0.000000</td>\n",
       "      <td>...</td>\n",
       "      <td>0.000000</td>\n",
       "      <td>0.000000</td>\n",
       "      <td>0.000000</td>\n",
       "      <td>1354.617500</td>\n",
       "      <td>NaN</td>\n",
       "      <td>32.812500</td>\n",
       "      <td>27.000000</td>\n",
       "      <td>0.000000</td>\n",
       "      <td>NaN</td>\n",
       "      <td>19.000000</td>\n",
       "    </tr>\n",
       "    <tr>\n",
       "      <th>50%</th>\n",
       "      <td>0.000000</td>\n",
       "      <td>0.000000</td>\n",
       "      <td>0.000000</td>\n",
       "      <td>0.000000</td>\n",
       "      <td>0.000000</td>\n",
       "      <td>0.000000</td>\n",
       "      <td>0.00000</td>\n",
       "      <td>0.000000</td>\n",
       "      <td>0.000000</td>\n",
       "      <td>0.000000</td>\n",
       "      <td>...</td>\n",
       "      <td>0.000000</td>\n",
       "      <td>0.000000</td>\n",
       "      <td>0.000000</td>\n",
       "      <td>2240.340000</td>\n",
       "      <td>NaN</td>\n",
       "      <td>45.990000</td>\n",
       "      <td>31.000000</td>\n",
       "      <td>1.000000</td>\n",
       "      <td>NaN</td>\n",
       "      <td>21.000000</td>\n",
       "    </tr>\n",
       "    <tr>\n",
       "      <th>75%</th>\n",
       "      <td>0.000000</td>\n",
       "      <td>0.000000</td>\n",
       "      <td>0.000000</td>\n",
       "      <td>0.000000</td>\n",
       "      <td>0.000000</td>\n",
       "      <td>0.000000</td>\n",
       "      <td>0.00000</td>\n",
       "      <td>0.000000</td>\n",
       "      <td>0.000000</td>\n",
       "      <td>0.000000</td>\n",
       "      <td>...</td>\n",
       "      <td>0.000000</td>\n",
       "      <td>0.000000</td>\n",
       "      <td>0.000000</td>\n",
       "      <td>5233.507500</td>\n",
       "      <td>NaN</td>\n",
       "      <td>58.290000</td>\n",
       "      <td>35.000000</td>\n",
       "      <td>1.000000</td>\n",
       "      <td>NaN</td>\n",
       "      <td>23.000000</td>\n",
       "    </tr>\n",
       "    <tr>\n",
       "      <th>max</th>\n",
       "      <td>20.000000</td>\n",
       "      <td>90.000000</td>\n",
       "      <td>60.000000</td>\n",
       "      <td>55.000000</td>\n",
       "      <td>40.000000</td>\n",
       "      <td>13916.501978</td>\n",
       "      <td>100.00000</td>\n",
       "      <td>3006.091312</td>\n",
       "      <td>4174.950593</td>\n",
       "      <td>3893.799911</td>\n",
       "      <td>...</td>\n",
       "      <td>3944.327580</td>\n",
       "      <td>11829.264869</td>\n",
       "      <td>7785.029171</td>\n",
       "      <td>46257.850000</td>\n",
       "      <td>NaN</td>\n",
       "      <td>971.110000</td>\n",
       "      <td>62.000000</td>\n",
       "      <td>1.000000</td>\n",
       "      <td>NaN</td>\n",
       "      <td>32.000000</td>\n",
       "    </tr>\n",
       "  </tbody>\n",
       "</table>\n",
       "<p>11 rows × 43 columns</p>\n",
       "</div>"
      ],
      "text/plain": [
       "        spend_1m_baby  spend_2m_baby  spend_3m_baby  spend_4m_baby  \\\n",
       "count    10000.000000   10000.000000   10000.000000   10000.000000   \n",
       "unique            NaN            NaN            NaN            NaN   \n",
       "top               NaN            NaN            NaN            NaN   \n",
       "freq              NaN            NaN            NaN            NaN   \n",
       "mean         0.762500       0.500000       0.487000       0.473000   \n",
       "std          2.107496       2.766002       2.672741       2.502378   \n",
       "min          0.000000       0.000000       0.000000       0.000000   \n",
       "25%          0.000000       0.000000       0.000000       0.000000   \n",
       "50%          0.000000       0.000000       0.000000       0.000000   \n",
       "75%          0.000000       0.000000       0.000000       0.000000   \n",
       "max         20.000000      90.000000      60.000000      55.000000   \n",
       "\n",
       "        spend_5m_baby  spend_6m_baby  spend_1m_clothes  spend_2m_clothes  \\\n",
       "count    10000.000000   10000.000000       10000.00000      10000.000000   \n",
       "unique            NaN            NaN               NaN               NaN   \n",
       "top               NaN            NaN               NaN               NaN   \n",
       "freq              NaN            NaN               NaN               NaN   \n",
       "mean         0.432500      64.583614           3.92000         23.086333   \n",
       "std          2.201347     518.637042          10.74803        159.879037   \n",
       "min          0.000000       0.000000           0.00000          0.000000   \n",
       "25%          0.000000       0.000000           0.00000          0.000000   \n",
       "50%          0.000000       0.000000           0.00000          0.000000   \n",
       "75%          0.000000       0.000000           0.00000          0.000000   \n",
       "max         40.000000   13916.501978         100.00000       3006.091312   \n",
       "\n",
       "        spend_3m_clothes  spend_4m_clothes  ...  spend_4m_eletronic  \\\n",
       "count       10000.000000      10000.000000  ...        10000.000000   \n",
       "unique               NaN               NaN  ...                 NaN   \n",
       "top                  NaN               NaN  ...                 NaN   \n",
       "freq                 NaN               NaN  ...                 NaN   \n",
       "mean           22.113359         24.667843  ...            3.695413   \n",
       "std           155.525896        162.129561  ...           80.473089   \n",
       "min             0.000000          0.000000  ...            0.000000   \n",
       "25%             0.000000          0.000000  ...            0.000000   \n",
       "50%             0.000000          0.000000  ...            0.000000   \n",
       "75%             0.000000          0.000000  ...            0.000000   \n",
       "max          4174.950593       3893.799911  ...         3944.327580   \n",
       "\n",
       "        spend_5m_eletronic  spend_6m_eletronic         sales  discount  \\\n",
       "count         10000.000000        10000.000000  10000.000000     10000   \n",
       "unique                 NaN                 NaN           NaN       817   \n",
       "top                    NaN                 NaN           NaN     $ 1.0   \n",
       "freq                   NaN                 NaN           NaN       277   \n",
       "mean              6.973173            7.055009   3920.136075       NaN   \n",
       "std             160.435451          151.792637   3872.673356       NaN   \n",
       "min               0.000000            0.000000    605.660000       NaN   \n",
       "25%               0.000000            0.000000   1354.617500       NaN   \n",
       "50%               0.000000            0.000000   2240.340000       NaN   \n",
       "75%               0.000000            0.000000   5233.507500       NaN   \n",
       "max           11829.264869         7785.029171  46257.850000       NaN   \n",
       "\n",
       "              profit           age       gender  cust_state        tenure  \n",
       "count   10000.000000  10000.000000  9000.000000       10000  10000.000000  \n",
       "unique           NaN           NaN          NaN          27           NaN  \n",
       "top              NaN           NaN          NaN          SP           NaN  \n",
       "freq             NaN           NaN          NaN        2160           NaN  \n",
       "mean       47.645930     31.516500     0.505667         NaN     20.985900  \n",
       "std        47.966765      6.438204     0.499996         NaN      2.445261  \n",
       "min      -395.040000     15.000000     0.000000         NaN     15.000000  \n",
       "25%        32.812500     27.000000     0.000000         NaN     19.000000  \n",
       "50%        45.990000     31.000000     1.000000         NaN     21.000000  \n",
       "75%        58.290000     35.000000     1.000000         NaN     23.000000  \n",
       "max       971.110000     62.000000     1.000000         NaN     32.000000  \n",
       "\n",
       "[11 rows x 43 columns]"
      ]
     },
     "execution_count": 6,
     "metadata": {},
     "output_type": "execute_result"
    }
   ],
   "source": [
    "#inspect if any missing values\n",
    "df.describe(include='all')"
   ]
  },
  {
   "cell_type": "code",
   "execution_count": 7,
   "id": "257bf965",
   "metadata": {},
   "outputs": [],
   "source": [
    "# data preprocessing\n",
    "# 1. convert all spend variables to float\n",
    "# 2. convert discount to float\n",
    "# 3. gender has missing values, dont know if 1=male or female, create factor levels\n"
   ]
  },
  {
   "cell_type": "code",
   "execution_count": 8,
   "id": "7a368627",
   "metadata": {},
   "outputs": [],
   "source": [
    "# convert spend columns to float type\n",
    "df.iloc[:,0:36] = df.iloc[:,0:36].astype(float)"
   ]
  },
  {
   "cell_type": "code",
   "execution_count": 9,
   "id": "f5a0914e",
   "metadata": {},
   "outputs": [],
   "source": [
    "# convert discount to float\n",
    "df[['discount']] = df[['discount']].apply(lambda x: x.str.replace('$','')).apply(lambda x: x.str.replace(',','')).astype(float)"
   ]
  },
  {
   "cell_type": "code",
   "execution_count": 10,
   "id": "a17d7d44",
   "metadata": {},
   "outputs": [],
   "source": [
    "# convert gender to object and one-hot encode\n",
    "df[['gender']] = df[['gender']].fillna(value=2)\n",
    "df[['gender']] = df[['gender']].astype(int)\n",
    "df['gender'].replace({0:'gender0', 1:'gender1', 2:'gender2'}, inplace=True)\n",
    "df_gender = pd.get_dummies(df['gender'])\n",
    "df = df.join(df_gender)\n",
    "del df_gender"
   ]
  },
  {
   "cell_type": "code",
   "execution_count": 11,
   "id": "0dfa1688",
   "metadata": {},
   "outputs": [],
   "source": [
    "# delete columns not used for modeling\n",
    "#df.drop(['gender', 'cust_state'], axis=1, inplace=True)"
   ]
  },
  {
   "cell_type": "code",
   "execution_count": 12,
   "id": "ce95e33f",
   "metadata": {},
   "outputs": [
    {
     "data": {
      "text/plain": [
       "spend_1m_baby         float64\n",
       "spend_2m_baby         float64\n",
       "spend_3m_baby         float64\n",
       "spend_4m_baby         float64\n",
       "spend_5m_baby         float64\n",
       "spend_6m_baby         float64\n",
       "spend_1m_clothes      float64\n",
       "spend_2m_clothes      float64\n",
       "spend_3m_clothes      float64\n",
       "spend_4m_clothes      float64\n",
       "spend_5m_clothes      float64\n",
       "spend_6m_clothes      float64\n",
       "spend_1m_health       float64\n",
       "spend_2m_health       float64\n",
       "spend_3m_health       float64\n",
       "spend_4m_health       float64\n",
       "spend_5m_health       float64\n",
       "spend_6m_health       float64\n",
       "spend_1m_pet          float64\n",
       "spend_2m_pet          float64\n",
       "spend_3m_pet          float64\n",
       "spend_4m_pet          float64\n",
       "spend_5m_pet          float64\n",
       "spend_6m_pet          float64\n",
       "spend_1m_groceries    float64\n",
       "spend_2m_groceries    float64\n",
       "spend_3m_groceries    float64\n",
       "spend_4m_groceries    float64\n",
       "spend_5m_groceries    float64\n",
       "spend_6m_groceries    float64\n",
       "spend_1m_eletronic    float64\n",
       "spend_2m_eletronic    float64\n",
       "spend_3m_eletronic    float64\n",
       "spend_4m_eletronic    float64\n",
       "spend_5m_eletronic    float64\n",
       "spend_6m_eletronic    float64\n",
       "sales                 float64\n",
       "discount              float64\n",
       "profit                float64\n",
       "age                     int64\n",
       "gender                 object\n",
       "cust_state             object\n",
       "tenure                  int64\n",
       "gender0                 uint8\n",
       "gender1                 uint8\n",
       "gender2                 uint8\n",
       "dtype: object"
      ]
     },
     "execution_count": 12,
     "metadata": {},
     "output_type": "execute_result"
    }
   ],
   "source": [
    "# check if columns are all numerical types\n",
    "df.dtypes"
   ]
  },
  {
   "cell_type": "code",
   "execution_count": 13,
   "id": "66d569a3",
   "metadata": {},
   "outputs": [
    {
     "data": {
      "text/plain": [
       "Text(0.5, 1.0, 'Age vs Discount Treatment')"
      ]
     },
     "execution_count": 13,
     "metadata": {},
     "output_type": "execute_result"
    },
    {
     "data": {
      "image/png": "[encoded data removed]",
      "text/plain": [
       "<Figure size 432x432 with 1 Axes>"
      ]
     },
     "metadata": {},
     "output_type": "display_data"
    }
   ],
   "source": [
    "# group df by running variable age\n",
    "df_age = df[['age', 'discount']].groupby(by=['age'], dropna=False, as_index=False).mean()\n",
    "\n",
    "plt.figure(figsize=(6,6))\n",
    "ax = plt.subplot(1,1,1)\n",
    "df_age.plot.scatter(x=\"age\", y=\"discount\", ax=ax)\n",
    "plt.title(\"Age vs Discount Treatment\")"
   ]
  },
  {
   "cell_type": "markdown",
   "id": "6115433c",
   "metadata": {},
   "source": [
    "No clear discontinuity pattern in discounts by age."
   ]
  },
  {
   "cell_type": "code",
   "execution_count": 14,
   "id": "b00498c9",
   "metadata": {},
   "outputs": [
    {
     "data": {
      "text/plain": [
       "Text(0.5, 1.0, 'Tenure vs Discount Treatment')"
      ]
     },
     "execution_count": 14,
     "metadata": {},
     "output_type": "execute_result"
    },
    {
     "data": {
      "image/png": "[encoded data removed]",
      "text/plain": [
       "<Figure size 432x432 with 1 Axes>"
      ]
     },
     "metadata": {},
     "output_type": "display_data"
    }
   ],
   "source": [
    "# group df by running variable tenure\n",
    "df_tenure = df[['tenure', 'discount']].groupby(by=['tenure'], dropna=False, as_index=False).mean()\n",
    "\n",
    "plt.figure(figsize=(6,6))\n",
    "ax = plt.subplot(1,1,1)\n",
    "df_tenure.plot.scatter(x=\"tenure\", y=\"discount\", ax=ax)\n",
    "plt.title(\"Tenure vs Discount Treatment\")"
   ]
  },
  {
   "cell_type": "markdown",
   "id": "9e47c54d",
   "metadata": {},
   "source": [
    "We observe discontinuity in discounts by tenure."
   ]
  },
  {
   "cell_type": "code",
   "execution_count": 15,
   "id": "bd49eab7",
   "metadata": {},
   "outputs": [
    {
     "data": {
      "text/plain": [
       "Text(0.5, 1.0, 'Gender vs Discount Treatment')"
      ]
     },
     "execution_count": 15,
     "metadata": {},
     "output_type": "execute_result"
    },
    {
     "data": {
      "image/png": "[encoded data removed]",
      "text/plain": [
       "<Figure size 432x432 with 1 Axes>"
      ]
     },
     "metadata": {},
     "output_type": "display_data"
    }
   ],
   "source": [
    "# group df by running variable gender\n",
    "df_gender = df[['gender', 'discount']].groupby(by=['gender'], dropna=False, as_index=False).mean()\n",
    "\n",
    "plt.figure(figsize=(6,6))\n",
    "ax = plt.subplot(1,1,1)\n",
    "df_gender.plot.scatter(x=\"gender\", y=\"discount\", ax=ax)\n",
    "plt.title(\"Gender vs Discount Treatment\")"
   ]
  },
  {
   "cell_type": "markdown",
   "id": "4742faf1",
   "metadata": {},
   "source": [
    "No clear discontinuity pattern in discounts by gender.  Note: gender2 denotes non-reported gender."
   ]
  },
  {
   "cell_type": "code",
   "execution_count": 16,
   "id": "8993637e",
   "metadata": {},
   "outputs": [
    {
     "data": {
      "text/plain": [
       "Text(0.5, 1.0, 'Tenure vs Sales')"
      ]
     },
     "execution_count": 16,
     "metadata": {},
     "output_type": "execute_result"
    },
    {
     "data": {
      "image/png": "[encoded data removed]",
      "text/plain": [
       "<Figure size 432x432 with 1 Axes>"
      ]
     },
     "metadata": {},
     "output_type": "display_data"
    }
   ],
   "source": [
    "# group df by tenure and aggregate sales with the mean\n",
    "df_sales = df[['tenure', 'sales']].groupby(by=['tenure'], dropna=False, as_index=False).mean()\n",
    "\n",
    "df_sales.plot.scatter(x=\"tenure\", y=\"sales\", figsize=(6,6))\n",
    "plt.title(\"Tenure vs Sales\")"
   ]
  },
  {
   "cell_type": "code",
   "execution_count": 17,
   "id": "f8d6d481",
   "metadata": {},
   "outputs": [
    {
     "data": {
      "text/plain": [
       "Text(0.5, 1.0, 'Tenure vs Profit')"
      ]
     },
     "execution_count": 17,
     "metadata": {},
     "output_type": "execute_result"
    },
    {
     "data": {
      "image/png": "[encoded data removed]",
      "text/plain": [
       "<Figure size 432x432 with 1 Axes>"
      ]
     },
     "metadata": {},
     "output_type": "display_data"
    }
   ],
   "source": [
    "# group df by tenure and aggregate profit with the mean\n",
    "df_profit = df[['tenure', 'profit']].groupby(by=['tenure'], dropna=False, as_index=False).mean()\n",
    "\n",
    "df_profit.plot.scatter(x=\"tenure\", y=\"profit\", figsize=(6,6))\n",
    "plt.title(\"Tenure vs Profit\")"
   ]
  },
  {
   "cell_type": "markdown",
   "id": "00afdbca",
   "metadata": {},
   "source": [
    "### Preliminary Insights\n",
    "\n",
    "We saw a huge discontinuity in discounts by tenure above.  After checking with the e-commerce company, they informed us that this discontinuity was expected because they gave discount bonuses to customers that have been with them once the customer reaches a tenure of 20 months.  We will refer to this point as the discontinuity threshold.\n",
    "\n",
    "Just like we saw a discontinuity in discount around tenure 20, there is a clear discontinuity in sales. Sales also increase dramatically once customers reach 20 month tenure. This is probably the effect of increasing discounts. On the other hand, when we look at profits, it seems that it decreases at the discontinuity. That is, customers just above tenure 20 are generating less profits than customers just below it. This probably indicates that the effect of discount on profits is negative"
   ]
  },
  {
   "cell_type": "code",
   "execution_count": 18,
   "id": "55c3626c",
   "metadata": {},
   "outputs": [
    {
     "data": {
      "image/png": "[encoded data removed]",
      "text/plain": [
       "<Figure size 720x360 with 1 Axes>"
      ]
     },
     "metadata": {},
     "output_type": "display_data"
    }
   ],
   "source": [
    "df_cust = df[['tenure', 'sales']].groupby(['tenure'], dropna=False,\n",
    "                                          as_index=False).count().rename(columns={'sales': 'cust_ct'})\n",
    "df_cust.plot(kind='bar', x='tenure', y='cust_ct', figsize=(10,5))\n",
    "plt.xlabel('Tenure')\n",
    "plt.ylabel('Customer Count')\n",
    "plt.show()"
   ]
  },
  {
   "cell_type": "markdown",
   "id": "07d0170d",
   "metadata": {},
   "source": [
    "There appears to be no indication of bunching around the 20 tenure mark.  This is expected since customers are not able to manipulate their tenure.  We can move on to the next step on regression discontinuity design using the threshold mark to trigger the indicator variables."
   ]
  },
  {
   "cell_type": "code",
   "execution_count": 19,
   "id": "d8abac54",
   "metadata": {},
   "outputs": [],
   "source": [
    "rdd_centered = df.copy()\n",
    "# center tenure around 0\n",
    "rdd_centered['tenure_centered'] = rdd_centered['tenure'] - 19\n"
   ]
  },
  {
   "cell_type": "code",
   "execution_count": 20,
   "id": "843a118c",
   "metadata": {},
   "outputs": [],
   "source": [
    "# create indicator variable\n",
    "rdd_centered['above_threshold'] = [1 if x > 19 else 0 for x in rdd_centered['tenure']]\n"
   ]
  },
  {
   "cell_type": "code",
   "execution_count": 21,
   "id": "bb8a79d0",
   "metadata": {},
   "outputs": [
    {
     "data": {
      "text/plain": [
       "Intercept                           10.030244\n",
       "tenure_centered                      0.111847\n",
       "above_threshold                    184.762580\n",
       "tenure_centered:above_threshold      0.826917\n",
       "dtype: float64"
      ]
     },
     "execution_count": 21,
     "metadata": {},
     "output_type": "execute_result"
    }
   ],
   "source": [
    "rdd_model = smf.ols('discount ~ tenure_centered + above_threshold + tenure_centered*above_threshold',\n",
    "                    data = rdd_centered)\n",
    "rdd_fit = rdd_model.fit()\n",
    "rdd_fit.params"
   ]
  },
  {
   "cell_type": "code",
   "execution_count": 22,
   "id": "7fe639d3",
   "metadata": {},
   "outputs": [
    {
     "data": {
      "text/html": [
       "<div>\n",
       "<style scoped>\n",
       "    .dataframe tbody tr th:only-of-type {\n",
       "        vertical-align: middle;\n",
       "    }\n",
       "\n",
       "    .dataframe tbody tr th {\n",
       "        vertical-align: top;\n",
       "    }\n",
       "\n",
       "    .dataframe thead th {\n",
       "        text-align: right;\n",
       "    }\n",
       "</style>\n",
       "<table border=\"1\" class=\"dataframe\">\n",
       "  <thead>\n",
       "    <tr style=\"text-align: right;\">\n",
       "      <th></th>\n",
       "      <th>Coef.</th>\n",
       "      <th>Std.Err.</th>\n",
       "      <th>t</th>\n",
       "      <th>P&gt;|t|</th>\n",
       "      <th>[0.025</th>\n",
       "      <th>0.975]</th>\n",
       "    </tr>\n",
       "  </thead>\n",
       "  <tbody>\n",
       "    <tr>\n",
       "      <th>Intercept</th>\n",
       "      <td>10.030244</td>\n",
       "      <td>4.213498</td>\n",
       "      <td>2.380503</td>\n",
       "      <td>1.730767e-02</td>\n",
       "      <td>1.770939</td>\n",
       "      <td>18.289549</td>\n",
       "    </tr>\n",
       "    <tr>\n",
       "      <th>tenure_centered</th>\n",
       "      <td>0.111847</td>\n",
       "      <td>3.263187</td>\n",
       "      <td>0.034275</td>\n",
       "      <td>9.726582e-01</td>\n",
       "      <td>-6.284656</td>\n",
       "      <td>6.508350</td>\n",
       "    </tr>\n",
       "    <tr>\n",
       "      <th>above_threshold</th>\n",
       "      <td>184.762580</td>\n",
       "      <td>5.696186</td>\n",
       "      <td>32.436189</td>\n",
       "      <td>1.552891e-219</td>\n",
       "      <td>173.596908</td>\n",
       "      <td>195.928252</td>\n",
       "    </tr>\n",
       "    <tr>\n",
       "      <th>tenure_centered:above_threshold</th>\n",
       "      <td>0.826917</td>\n",
       "      <td>3.429600</td>\n",
       "      <td>0.241112</td>\n",
       "      <td>8.094735e-01</td>\n",
       "      <td>-5.895790</td>\n",
       "      <td>7.549624</td>\n",
       "    </tr>\n",
       "  </tbody>\n",
       "</table>\n",
       "</div>"
      ],
      "text/plain": [
       "                                      Coef.  Std.Err.          t  \\\n",
       "Intercept                         10.030244  4.213498   2.380503   \n",
       "tenure_centered                    0.111847  3.263187   0.034275   \n",
       "above_threshold                  184.762580  5.696186  32.436189   \n",
       "tenure_centered:above_threshold    0.826917  3.429600   0.241112   \n",
       "\n",
       "                                         P>|t|      [0.025      0.975]  \n",
       "Intercept                         1.730767e-02    1.770939   18.289549  \n",
       "tenure_centered                   9.726582e-01   -6.284656    6.508350  \n",
       "above_threshold                  1.552891e-219  173.596908  195.928252  \n",
       "tenure_centered:above_threshold   8.094735e-01   -5.895790    7.549624  "
      ]
     },
     "execution_count": 22,
     "metadata": {},
     "output_type": "execute_result"
    }
   ],
   "source": [
    "rdd_fit.summary2().tables[1]"
   ]
  },
  {
   "cell_type": "markdown",
   "id": "58d7ff2f",
   "metadata": {},
   "source": [
    "Discount is increasing by 184.76 once we cross the threshold.  \n",
    "This increase appears to be statistically significant."
   ]
  },
  {
   "cell_type": "code",
   "execution_count": 23,
   "id": "be3bc31d",
   "metadata": {},
   "outputs": [],
   "source": [
    "rdd_agg = rdd_centered[['tenure_centered', 'discount', 'above_threshold']].groupby(by=['tenure_centered'],\n",
    "                                                                         dropna=False, as_index=False).mean()"
   ]
  },
  {
   "cell_type": "code",
   "execution_count": 24,
   "id": "964b0f94",
   "metadata": {},
   "outputs": [
    {
     "data": {
      "text/html": [
       "<div>\n",
       "<style scoped>\n",
       "    .dataframe tbody tr th:only-of-type {\n",
       "        vertical-align: middle;\n",
       "    }\n",
       "\n",
       "    .dataframe tbody tr th {\n",
       "        vertical-align: top;\n",
       "    }\n",
       "\n",
       "    .dataframe thead th {\n",
       "        text-align: right;\n",
       "    }\n",
       "</style>\n",
       "<table border=\"1\" class=\"dataframe\">\n",
       "  <thead>\n",
       "    <tr style=\"text-align: right;\">\n",
       "      <th></th>\n",
       "      <th>tenure_centered</th>\n",
       "      <th>discount</th>\n",
       "      <th>above_threshold</th>\n",
       "    </tr>\n",
       "  </thead>\n",
       "  <tbody>\n",
       "    <tr>\n",
       "      <th>0</th>\n",
       "      <td>-4</td>\n",
       "      <td>11.606061</td>\n",
       "      <td>0.0</td>\n",
       "    </tr>\n",
       "    <tr>\n",
       "      <th>1</th>\n",
       "      <td>-3</td>\n",
       "      <td>8.721519</td>\n",
       "      <td>0.0</td>\n",
       "    </tr>\n",
       "    <tr>\n",
       "      <th>2</th>\n",
       "      <td>-2</td>\n",
       "      <td>9.633262</td>\n",
       "      <td>0.0</td>\n",
       "    </tr>\n",
       "    <tr>\n",
       "      <th>3</th>\n",
       "      <td>-1</td>\n",
       "      <td>10.313053</td>\n",
       "      <td>0.0</td>\n",
       "    </tr>\n",
       "    <tr>\n",
       "      <th>4</th>\n",
       "      <td>0</td>\n",
       "      <td>9.882168</td>\n",
       "      <td>0.0</td>\n",
       "    </tr>\n",
       "  </tbody>\n",
       "</table>\n",
       "</div>"
      ],
      "text/plain": [
       "   tenure_centered   discount  above_threshold\n",
       "0               -4  11.606061              0.0\n",
       "1               -3   8.721519              0.0\n",
       "2               -2   9.633262              0.0\n",
       "3               -1  10.313053              0.0\n",
       "4                0   9.882168              0.0"
      ]
     },
     "execution_count": 24,
     "metadata": {},
     "output_type": "execute_result"
    }
   ],
   "source": [
    "rdd_agg.head()"
   ]
  },
  {
   "cell_type": "code",
   "execution_count": 25,
   "id": "70acc6ee",
   "metadata": {},
   "outputs": [],
   "source": [
    "#add prediction column to the grouped data using the RDD model above\n",
    "rdd_agg['pred'] = rdd_fit.predict(rdd_agg)"
   ]
  },
  {
   "cell_type": "code",
   "execution_count": 26,
   "id": "245bc2e4",
   "metadata": {},
   "outputs": [
    {
     "data": {
      "image/png": "[encoded data removed]",
      "text/plain": [
       "<Figure size 576x432 with 1 Axes>"
      ]
     },
     "metadata": {},
     "output_type": "display_data"
    }
   ],
   "source": [
    "plt.figure(figsize=(8,6))\n",
    "ax = plt.subplot(1,1,1)\n",
    "ax.scatter(x=\"tenure_centered\", y=\"discount\", s=40, c='b', marker=\"s\", label='Actual', data=rdd_agg)\n",
    "ax.scatter(x=\"tenure_centered\", y=\"pred\", s=40, c='r', marker=\"o\", label='Predicted', data=rdd_agg)\n",
    "#rdd_agg.plot.scatter(x=\"tenure_centered\", y=\"discount\", ax=ax)\n",
    "plt.legend(loc='upper left')\n",
    "plt.title(\"Tenure vs Discount (Actual and Predicted)\")\n",
    "plt.xlabel(\"Centered Tenure\")\n",
    "plt.ylabel(\"Discount\")\n",
    "plt.axvline(x = 0, color = 'gray', label = 'threshold', ls='--', lw=2)\n",
    "plt.show()\n"
   ]
  },
  {
   "cell_type": "markdown",
   "id": "13797568",
   "metadata": {},
   "source": [
    "We just showed how crossing the threshold impacts discounts.  \n",
    "Now let us see how crossing the threshold impacts profits."
   ]
  },
  {
   "cell_type": "code",
   "execution_count": 27,
   "id": "3a37ae5e",
   "metadata": {},
   "outputs": [
    {
     "data": {
      "text/html": [
       "<div>\n",
       "<style scoped>\n",
       "    .dataframe tbody tr th:only-of-type {\n",
       "        vertical-align: middle;\n",
       "    }\n",
       "\n",
       "    .dataframe tbody tr th {\n",
       "        vertical-align: top;\n",
       "    }\n",
       "\n",
       "    .dataframe thead th {\n",
       "        text-align: right;\n",
       "    }\n",
       "</style>\n",
       "<table border=\"1\" class=\"dataframe\">\n",
       "  <thead>\n",
       "    <tr style=\"text-align: right;\">\n",
       "      <th></th>\n",
       "      <th>Coef.</th>\n",
       "      <th>Std.Err.</th>\n",
       "      <th>t</th>\n",
       "      <th>P&gt;|t|</th>\n",
       "      <th>[0.025</th>\n",
       "      <th>0.975]</th>\n",
       "    </tr>\n",
       "  </thead>\n",
       "  <tbody>\n",
       "    <tr>\n",
       "      <th>Intercept</th>\n",
       "      <td>53.192657</td>\n",
       "      <td>1.207652</td>\n",
       "      <td>44.046331</td>\n",
       "      <td>0.000000</td>\n",
       "      <td>50.825416</td>\n",
       "      <td>55.559899</td>\n",
       "    </tr>\n",
       "    <tr>\n",
       "      <th>tenure_centered</th>\n",
       "      <td>0.129354</td>\n",
       "      <td>0.935279</td>\n",
       "      <td>0.138306</td>\n",
       "      <td>0.890002</td>\n",
       "      <td>-1.703980</td>\n",
       "      <td>1.962689</td>\n",
       "    </tr>\n",
       "    <tr>\n",
       "      <th>above_threshold</th>\n",
       "      <td>-7.601527</td>\n",
       "      <td>1.632613</td>\n",
       "      <td>-4.656049</td>\n",
       "      <td>0.000003</td>\n",
       "      <td>-10.801778</td>\n",
       "      <td>-4.401276</td>\n",
       "    </tr>\n",
       "    <tr>\n",
       "      <th>tenure_centered:above_threshold</th>\n",
       "      <td>-0.160774</td>\n",
       "      <td>0.982975</td>\n",
       "      <td>-0.163558</td>\n",
       "      <td>0.870082</td>\n",
       "      <td>-2.087603</td>\n",
       "      <td>1.766056</td>\n",
       "    </tr>\n",
       "  </tbody>\n",
       "</table>\n",
       "</div>"
      ],
      "text/plain": [
       "                                     Coef.  Std.Err.          t     P>|t|  \\\n",
       "Intercept                        53.192657  1.207652  44.046331  0.000000   \n",
       "tenure_centered                   0.129354  0.935279   0.138306  0.890002   \n",
       "above_threshold                  -7.601527  1.632613  -4.656049  0.000003   \n",
       "tenure_centered:above_threshold  -0.160774  0.982975  -0.163558  0.870082   \n",
       "\n",
       "                                    [0.025     0.975]  \n",
       "Intercept                        50.825416  55.559899  \n",
       "tenure_centered                  -1.703980   1.962689  \n",
       "above_threshold                 -10.801778  -4.401276  \n",
       "tenure_centered:above_threshold  -2.087603   1.766056  "
      ]
     },
     "execution_count": 27,
     "metadata": {},
     "output_type": "execute_result"
    }
   ],
   "source": [
    "rdd_model2 = smf.ols('profit ~ tenure_centered + above_threshold + tenure_centered*above_threshold',\n",
    "                    data = rdd_centered)\n",
    "rdd_fit2 = rdd_model2.fit()\n",
    "rdd_fit2.params\n",
    "\n",
    "rdd_fit2.summary2().tables[1]"
   ]
  },
  {
   "cell_type": "code",
   "execution_count": 28,
   "id": "6a8055d5",
   "metadata": {},
   "outputs": [],
   "source": [
    "rdd_agg2 = rdd_centered[['tenure_centered', 'profit', 'above_threshold']].groupby(by=['tenure_centered'],\n",
    "                                                                         dropna=False, as_index=False).mean()"
   ]
  },
  {
   "cell_type": "code",
   "execution_count": 29,
   "id": "5da36a23",
   "metadata": {},
   "outputs": [],
   "source": [
    "#add prediction column to the grouped data using the RDD model above\n",
    "rdd_agg2['pred'] = rdd_fit2.predict(rdd_agg2)"
   ]
  },
  {
   "cell_type": "code",
   "execution_count": 30,
   "id": "3bbf80bd",
   "metadata": {},
   "outputs": [
    {
     "data": {
      "image/png": "[encoded data removed]",
      "text/plain": [
       "<Figure size 576x432 with 1 Axes>"
      ]
     },
     "metadata": {},
     "output_type": "display_data"
    }
   ],
   "source": [
    "plt.figure(figsize=(8,6))\n",
    "ax = plt.subplot(1,1,1)\n",
    "ax.scatter(x=\"tenure_centered\", y=\"profit\", s=40, c='b', marker=\"s\", label='Actual', data=rdd_agg2)\n",
    "ax.scatter(x=\"tenure_centered\", y=\"pred\", s=40, c='r', marker=\"o\", label='Predicted', data=rdd_agg2)\n",
    "ax.plot(rdd_agg2[\"tenure_centered\"], rdd_agg2[\"pred\"], c='r')\n",
    "plt.legend(loc='upper left')\n",
    "plt.title(\"Tenure vs Profit (Actual and Predicted)\")\n",
    "plt.xlabel(\"Centered Tenure\")\n",
    "plt.ylabel(\"Profit\")\n",
    "plt.axvline(x = 0, color = 'gray', label = 'threshold', ls='--', lw=2)\n",
    "plt.show()\n"
   ]
  },
  {
   "cell_type": "markdown",
   "id": "0136b814",
   "metadata": {},
   "source": [
    "We see that there is a negative effect of discount on profits.  The reduction in average profit was estimated to be between the range of \\\\$4.4K to \\\\$8.8K."
   ]
  },
  {
   "cell_type": "markdown",
   "id": "41596e57",
   "metadata": {},
   "source": [
    "To improve the RDD estimation, we will use the technique using kernel weights.  Using kernel weights will minimize the negative impacts from having data points with weird nonlinearities or is denser in regions away from the threshold.  In these cases, we could end up with a poor fit of the threshold.  So we try to fit the edge of the regression line closer to the edge of the discontinuity or points closer to the threshold and discarding the ones that are far.  The result is that we fit the threshold much more nicely, which in turn gives a better estimator of the treatment effect."
   ]
  },
  {
   "cell_type": "code",
   "execution_count": 31,
   "id": "6249ee55",
   "metadata": {},
   "outputs": [],
   "source": [
    "#define triangular kernel function\n",
    "# R --> running variable\n",
    "# c --> a center parameter\n",
    "# h --> a width paramater\n",
    "\n",
    "def kernel(R, c, h):\n",
    "    indicator = (np.abs(R-c) <= h).astype(float)\n",
    "    return indicator * (1 - np.abs(R-c)/h)"
   ]
  },
  {
   "cell_type": "code",
   "execution_count": 32,
   "id": "4ded110a",
   "metadata": {},
   "outputs": [
    {
     "data": {
      "image/png": "[encoded data removed]",
      "text/plain": [
       "<Figure size 576x432 with 1 Axes>"
      ]
     },
     "metadata": {},
     "output_type": "display_data"
    }
   ],
   "source": [
    "plt.figure(figsize=(8,6))\n",
    "plt.plot(rdd_agg2['tenure_centered'], kernel(rdd_agg2['tenure_centered'], c=0, h=3))\n",
    "plt.xlabel('Centered Tenure')\n",
    "plt.ylabel('Weight')\n",
    "plt.title('Kernel weight by Tenure')\n",
    "plt.show()"
   ]
  },
  {
   "cell_type": "code",
   "execution_count": null,
   "id": "f79e1e24",
   "metadata": {},
   "outputs": [],
   "source": []
  },
  {
   "cell_type": "code",
   "execution_count": 33,
   "id": "9c91d034",
   "metadata": {},
   "outputs": [
    {
     "data": {
      "text/html": [
       "<div>\n",
       "<style scoped>\n",
       "    .dataframe tbody tr th:only-of-type {\n",
       "        vertical-align: middle;\n",
       "    }\n",
       "\n",
       "    .dataframe tbody tr th {\n",
       "        vertical-align: top;\n",
       "    }\n",
       "\n",
       "    .dataframe thead th {\n",
       "        text-align: right;\n",
       "    }\n",
       "</style>\n",
       "<table border=\"1\" class=\"dataframe\">\n",
       "  <thead>\n",
       "    <tr style=\"text-align: right;\">\n",
       "      <th></th>\n",
       "      <th>Coef.</th>\n",
       "      <th>Std.Err.</th>\n",
       "      <th>t</th>\n",
       "      <th>P&gt;|t|</th>\n",
       "      <th>[0.025</th>\n",
       "      <th>0.975]</th>\n",
       "    </tr>\n",
       "  </thead>\n",
       "  <tbody>\n",
       "    <tr>\n",
       "      <th>Intercept</th>\n",
       "      <td>53.288208</td>\n",
       "      <td>0.741582</td>\n",
       "      <td>71.857518</td>\n",
       "      <td>0.000000e+00</td>\n",
       "      <td>51.834559</td>\n",
       "      <td>54.741857</td>\n",
       "    </tr>\n",
       "    <tr>\n",
       "      <th>tenure_centered</th>\n",
       "      <td>0.297351</td>\n",
       "      <td>0.787817</td>\n",
       "      <td>0.377436</td>\n",
       "      <td>7.058575e-01</td>\n",
       "      <td>-1.246930</td>\n",
       "      <td>1.841631</td>\n",
       "    </tr>\n",
       "    <tr>\n",
       "      <th>above_threshold</th>\n",
       "      <td>-8.312594</td>\n",
       "      <td>1.613782</td>\n",
       "      <td>-5.151000</td>\n",
       "      <td>2.640394e-07</td>\n",
       "      <td>-11.475933</td>\n",
       "      <td>-5.149256</td>\n",
       "    </tr>\n",
       "    <tr>\n",
       "      <th>tenure_centered:above_threshold</th>\n",
       "      <td>0.105999</td>\n",
       "      <td>1.116901</td>\n",
       "      <td>0.094905</td>\n",
       "      <td>9.243925e-01</td>\n",
       "      <td>-2.083351</td>\n",
       "      <td>2.295349</td>\n",
       "    </tr>\n",
       "  </tbody>\n",
       "</table>\n",
       "</div>"
      ],
      "text/plain": [
       "                                     Coef.  Std.Err.          t         P>|t|  \\\n",
       "Intercept                        53.288208  0.741582  71.857518  0.000000e+00   \n",
       "tenure_centered                   0.297351  0.787817   0.377436  7.058575e-01   \n",
       "above_threshold                  -8.312594  1.613782  -5.151000  2.640394e-07   \n",
       "tenure_centered:above_threshold   0.105999  1.116901   0.094905  9.243925e-01   \n",
       "\n",
       "                                    [0.025     0.975]  \n",
       "Intercept                        51.834559  54.741857  \n",
       "tenure_centered                  -1.246930   1.841631  \n",
       "above_threshold                 -11.475933  -5.149256  \n",
       "tenure_centered:above_threshold  -2.083351   2.295349  "
      ]
     },
     "execution_count": 33,
     "metadata": {},
     "output_type": "execute_result"
    }
   ],
   "source": [
    "rdd_model3 = smf.wls('profit ~ tenure_centered + above_threshold + tenure_centered*above_threshold',\n",
    "                    data = rdd_centered, weights = kernel(rdd_centered['tenure_centered'], c=0, h=4))\n",
    "rdd_fit3 = rdd_model3.fit()\n",
    "rdd_fit3.params\n",
    "\n",
    "rdd_fit3.summary2().tables[1]"
   ]
  },
  {
   "cell_type": "code",
   "execution_count": 34,
   "id": "3e8d948e",
   "metadata": {},
   "outputs": [],
   "source": [
    "rdd_agg3 = rdd_centered[['tenure_centered', 'profit', 'above_threshold']].groupby(by=['tenure_centered'],\n",
    "                                                                         dropna=False, as_index=False).mean()"
   ]
  },
  {
   "cell_type": "code",
   "execution_count": 35,
   "id": "80c1bab0",
   "metadata": {},
   "outputs": [],
   "source": [
    "rdd_agg3['pred'] = rdd_fit3.predict(rdd_agg3)"
   ]
  },
  {
   "cell_type": "code",
   "execution_count": 36,
   "id": "d11a34f7",
   "metadata": {},
   "outputs": [
    {
     "data": {
      "image/png": "[encoded data removed]",
      "text/plain": [
       "<Figure size 576x432 with 1 Axes>"
      ]
     },
     "metadata": {},
     "output_type": "display_data"
    }
   ],
   "source": [
    "plt.figure(figsize=(8,6))\n",
    "ax = plt.subplot(1,1,1)\n",
    "ax.scatter(x=\"tenure_centered\", y=\"profit\", s=40, c='b', marker=\"s\", label='Actual', data=rdd_agg3)\n",
    "ax.scatter(x=\"tenure_centered\", y=\"pred\", s=40, c='r', marker=\"o\", label='Predicted', data=rdd_agg3)\n",
    "ax.plot(rdd_agg3[\"tenure_centered\"], rdd_agg3[\"pred\"], c='r')\n",
    "plt.legend(loc='upper left')\n",
    "plt.title(\"Tenure vs Profit (Actual and Predicted) with Kernel Weights\")\n",
    "plt.xlabel(\"Centered Tenure\")\n",
    "plt.ylabel(\"Profit\")\n",
    "plt.axvline(x = 0, color = 'gray', label = 'threshold', ls='--', lw=2)\n",
    "plt.show()"
   ]
  },
  {
   "cell_type": "markdown",
   "id": "133008c9",
   "metadata": {},
   "source": [
    "We can see an improvement of the regression line along the actual points further away from the zero line.  \n",
    "\n",
    "We also see an immediate negative effect of discount on profits at the 20-month mark. This reduction in average profit is estimated to be between the range of \\\\$5.1K to \\\\$11.5K.  As tenure increases beyond 20 months, the impact of discounts diminishes gradually, but the effect is still negative.\n",
    "\n",
    "In conclusion, we recommend that the e-commerce company should NOT distribute its discounts."
   ]
  },
  {
   "cell_type": "code",
   "execution_count": null,
   "id": "0662aab8",
   "metadata": {},
   "outputs": [],
   "source": []
  }
 ],
 "metadata": {
  "kernelspec": {
   "display_name": "Python 3 (ipykernel)",
   "language": "python",
   "name": "python3"
  },
  "language_info": {
   "codemirror_mode": {
    "name": "ipython",
    "version": 3
   },
   "file_extension": ".py",
   "mimetype": "text/x-python",
   "name": "python",
   "nbconvert_exporter": "python",
   "pygments_lexer": "ipython3",
   "version": "3.9.7"
  }
 },
 "nbformat": 4,
 "nbformat_minor": 5
}
